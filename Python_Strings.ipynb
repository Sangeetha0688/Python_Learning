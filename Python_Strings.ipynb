{
 "cells": [
  {
   "cell_type": "code",
   "execution_count": 16,
   "metadata": {},
   "outputs": [
    {
     "name": "stdout",
     "output_type": "stream",
     "text": [
      "15\n",
      "Cling Arulkumar\n",
      "C\n",
      "u\n",
      "ing A\n",
      "g Arulkumar\n",
      "ng Aru\n",
      "Cling ArulkumarCling ArulkumarCling ArulkumarCling ArulkumarCling Arulkumar\n",
      "Cling Arulkumaris a cool and talented guy :: AS\n"
     ]
    }
   ],
   "source": [
    "# Python Strings usages#\n",
    "String = \"Cling Arulkumar\"\n",
    "print (len (String))     # prints length of the string\n",
    "print(String)           # prints complete string\n",
    "print(String[0])        # prints first character of the string\n",
    "print(String[11])      \n",
    "print(String[2:7])      # displays from 2 to 7 (starts from 0 to x)\n",
    "print(String[4:])       #displays strings starting from 4th character\n",
    "print(String[3:-6])     #prints from 3rd character and from last before 6th character\n",
    "print(String * 5)       #prints 5 times\n",
    "print(String + \"is a cool and talented guy :: AS\")\n",
    "\n"
   ]
  },
  {
   "cell_type": "code",
   "execution_count": 19,
   "metadata": {},
   "outputs": [
    {
     "name": "stdout",
     "output_type": "stream",
     "text": [
      "cling arulkumar\n",
      "CLING ARULKUMAR\n",
      "Cling Arulkumar\n"
     ]
    }
   ],
   "source": [
    "print (str.lower(String))      #prints everything in lower cases\n",
    "print (str.upper(String))      #prints everything in upper cases\n",
    "print (str.title(String))   #prints the first letter in every word in caps"
   ]
  },
  {
   "cell_type": "code",
   "execution_count": 23,
   "metadata": {},
   "outputs": [
    {
     "data": {
      "text/plain": [
       "'67ddjk'"
      ]
     },
     "execution_count": 23,
     "metadata": {},
     "output_type": "execute_result"
    }
   ],
   "source": [
    "a= \"2467ddjkk489ss\"\n",
    "a[3]            #displays the 4th letter (0 to x)\n",
    "a[:3]           # displays <4th letter\n",
    "a[2:8]          #displays from 3rd letter to 7th letter <8\n",
    "\n",
    "\n"
   ]
  },
  {
   "cell_type": "code",
   "execution_count": null,
   "metadata": {},
   "outputs": [],
   "source": [
    "\n"
   ]
  }
 ],
 "metadata": {
  "kernelspec": {
   "display_name": "Python 3",
   "language": "python",
   "name": "python3"
  },
  "language_info": {
   "codemirror_mode": {
    "name": "ipython",
    "version": 3
   },
   "file_extension": ".py",
   "mimetype": "text/x-python",
   "name": "python",
   "nbconvert_exporter": "python",
   "pygments_lexer": "ipython3",
   "version": "3.7.3"
  }
 },
 "nbformat": 4,
 "nbformat_minor": 2
}
